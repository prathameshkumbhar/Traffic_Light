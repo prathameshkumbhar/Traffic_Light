{
 "cells": [
  {
   "cell_type": "code",
   "execution_count": null,
   "metadata": {},
   "outputs": [],
   "source": [
    "import threading\n",
    "import time\n",
    "\n",
    "#import colorama\n",
    "#from colorama import Back,Fore,Style\n",
    "#from colorama import init\n",
    "#from termcolor import colored\n",
    "#print(f\"{Fore.RED}+ text\")\n",
    "#print(Fore.RED+\"text\")\n",
    "class Traffic_signal:\n",
    "    \n",
    "    def siganl(self):\n",
    "        a=input(\"Enter signal color 1.red \\t 2.yellow \\t 3.green\").lower()\n",
    "        \n",
    "        if(a==\"red\"):\n",
    "            print(\"!!!RED SIGNAL!!!\")\n",
    "            print(\"-----Wait 10 Seconds-----\")\n",
    "            time.sleep(10)\n",
    "            print(\"!!!YELLOW SIGNAL!!!\")\n",
    "            print(\"-----Wait 5 Seconds-----\")\n",
    "            time.sleep(5)\n",
    "            print(\"!!!GREEN GO !!!!----> ----->\")\n",
    "        elif(a==\"yellow\"):\n",
    "            print(\"!!!YELLOW SIGNAL!!!\")\n",
    "            print(\"-----Wait 5 Seconds-----\")\n",
    "            time.sleep(5)\n",
    "            print(\"!!!GREEN GO !!!!---> ---->\")\n",
    "        elif(a==\"green\"):\n",
    "            print(\"!!!GREEN GO !!!!---> ---->\")\n",
    "        else:\n",
    "            print(\"!!! NO SIGNALS YOU CAN GO !!!\")\n",
    "            \n",
    "            \n",
    "z=Traffic_signal()\n",
    "z.siganl()\n",
    "  \n",
    "\n",
    "\n"
   ]
  },
  {
   "cell_type": "code",
   "execution_count": null,
   "metadata": {},
   "outputs": [],
   "source": []
  }
 ],
 "metadata": {
  "kernelspec": {
   "display_name": "Python 3",
   "language": "python",
   "name": "python3"
  },
  "language_info": {
   "codemirror_mode": {
    "name": "ipython",
    "version": 3
   },
   "file_extension": ".py",
   "mimetype": "text/x-python",
   "name": "python",
   "nbconvert_exporter": "python",
   "pygments_lexer": "ipython3",
   "version": "3.8.5"
  }
 },
 "nbformat": 4,
 "nbformat_minor": 4
}
